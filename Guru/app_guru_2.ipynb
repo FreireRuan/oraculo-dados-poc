{
 "cells": [
  {
   "cell_type": "code",
   "execution_count": 1,
   "id": "b8e21a34",
   "metadata": {},
   "outputs": [
    {
     "ename": "SyntaxError",
     "evalue": "invalid syntax (2603145866.py, line 1)",
     "output_type": "error",
     "traceback": [
      "\u001b[1;36m  Cell \u001b[1;32mIn[1], line 1\u001b[1;36m\u001b[0m\n\u001b[1;33m    import langchain.agents import tool\u001b[0m\n\u001b[1;37m                            ^\u001b[0m\n\u001b[1;31mSyntaxError\u001b[0m\u001b[1;31m:\u001b[0m invalid syntax\n"
     ]
    }
   ],
   "source": [
    "import langchain.agents import tool\n",
    "from pydantic import BaseModel, Field"
   ]
  },
  {
   "cell_type": "code",
   "execution_count": null,
   "id": "a2e9f715",
   "metadata": {},
   "outputs": [
    {
     "ename": "NameError",
     "evalue": "name 'BaseModel' is not defined",
     "output_type": "error",
     "traceback": [
      "\u001b[31m---------------------------------------------------------------------------\u001b[39m",
      "\u001b[31mNameError\u001b[39m                                 Traceback (most recent call last)",
      "\u001b[36mCell\u001b[39m\u001b[36m \u001b[39m\u001b[32mIn[4]\u001b[39m\u001b[32m, line 1\u001b[39m\n\u001b[32m----> \u001b[39m\u001b[32m1\u001b[39m \u001b[38;5;28;01mclass\u001b[39;00m\u001b[38;5;250m \u001b[39m\u001b[34;01mcashback\u001b[39;00m(\u001b[43mBaseModel\u001b[49m):\n\u001b[32m      2\u001b[39m \u001b[38;5;250m    \u001b[39m\u001b[33;03m\"\"\"\u001b[39;00m\n\u001b[32m      3\u001b[39m \u001b[33;03m    Retorna dataframe com dados para informações de crédito.\u001b[39;00m\n\u001b[32m      4\u001b[39m \u001b[33;03m    \"\"\"\u001b[39;00m\n\u001b[32m      5\u001b[39m     id_parceiro: \u001b[38;5;28mstr\u001b[39m = Field( id_parceiro=\u001b[33m\"\u001b[39m\u001b[33mID do parceiro\u001b[39m\u001b[33m\"\u001b[39m, description=\u001b[33m\"\u001b[39m\u001b[33mID do parceiro para o qual você deseja obter informações de cashback.\u001b[39m\u001b[33m\"\u001b[39m)\n",
      "\u001b[31mNameError\u001b[39m: name 'BaseModel' is not defined"
     ]
    }
   ],
   "source": [
    "class cashback(BaseModel):\n",
    "    \"\"\"\n",
    "    Retorna dataframe com dados para informações de crédito.\n",
    "    \"\"\"\n",
    "    id_parceiro: str = Field( id_parceiro=\"ID do parceiro\", description=\"ID do parceiro para o qual você deseja obter informações de cashback.\")\n",
    "    nome_fantasia: str = Field(nome_fantasia=\"Nome fantasia do parceiro\", description=\"Nome fantasia do parceiro para o qual você deseja obter informações de cashback.\")\n",
    "    razao_social: str = Field(razao_social=\"Razão social do parceiro\", description=\"Razão social do parceiro para o qual você deseja obter informações de cashback.\")\n",
    "    cnpj: str = Field(cnpj=\"CNPJ do parceiro\", description=\"CNPJ do parceiro para o qual você deseja obter informações de cashback.\")\n",
    "    id_status: str = Field(id_status=\"ID do status do parceiro\", description=\"ID do status do parceiro para o qual você deseja obter informações de cashback.\")\n",
    "    status_parceiro: str = Field(status_parceiro=\"Status do parceiro\", description=\"Status do parceiro para o qual você deseja obter informações de cashback. Pode ser cancelado, ativo, inserido ou inativo.\")\n",
    "    desc_segmento_pri: str = Field(desc_segmento_pri=\"Descrição do segmento primário do parceiro\", description=\"Descrição do segmento primário do parceiro para o qual você deseja obter informações de cashback.\")\n",
    "    desc_segmento_sec: str = Field(desc_segmento_sec=\"Descrição do segmento secundário  do parceiro\", description=\"Descrição do segmento secundário do parceiro para o qual você deseja obter informações de cashback.\")\n",
    "    desc_segmento_alt: str = Field(desc_segmento_alt=\"Descrição do segmento alternativo do parceiro\", description=\"Descrição do segmento alternativo do parceiro para o qual você deseja obter informações de cashback.\")\n",
    "    dt_ativacao: str = Field(dt_ativacao=\"Data de ativação do parceiro\", description=\"Data de ativação do parceiro para o qual você deseja obter informações de cashback.\")\n",
    "    dt_fim_onboarding: str = Field(dt_fim_onboarding=\"Data de fim do onboarding do parceiro\", description=\"Data de fim do onboarding do parceiro para o qual você deseja obter informações de cashback.\")\n",
    "    id_franquia: str = Field(id_franquia=\"ID da franquia do parceiro\", description=\"ID da franquia do parceiro para o qual você deseja obter informações de cashback.\")    \n",
    "    nome_franquia: str = Field(nome_franquia=\"Nome da franquia do parceiro\", description=\"Nome da franquia do parceiro para o qual você deseja obter informações de cashback.\")\n",
    "    id_regional: str = Field(id_regional=\"ID da regional do parceiro\", description=\"ID da regional do parceiro para o qual você deseja obter informações de cashback.\")\n",
    "    regional_franquia: str = Field(regional_franquia=\"Regional da franquia do parceiro\", description=\"Regional da franquia do parceiro para o qual você deseja obter informações de cashback.\")\n",
    "    tpv: float = Field(tpv=\"TPV do parceiro\", description=\"TPV do parceiro para o qual você deseja obter informações de cashback.\")\n",
    "    vlr_cashback: float = Field(vlr_cashback=\"Valor do cashback do parceiro\", description=\"Valor do cashback do parceiro para o qual você deseja obter informações de cashback.\")\n",
    "    vendas: float = Field(vendas=\"Vendas do parceiro\", description=\"Quantidade de Vendas do parceiro para o qual você deseja obter informações de cashback.\") \n",
    "    usuarios_unicos: int = Field(usuarios_unicos=\"Usuários únicos do parceiro\", description=\"Quantidade de usuários únicos do parceiro para o qual você deseja obter informações de cashback.\")     \n",
    "    perc_tpv: float = Field(perc_tpv=\"Percentual do TPV do parceiro\", description=\"Percentual do TPV do parceiro para o qual você deseja obter informações de cashback.\")\n",
    "    perc_venda: float = Field(perc_venda=\"Percentual de vendas do parceiro\", description=\"Percentual de vendas do parceiro para o qual você deseja obter informações de cashback.\")\n",
    "    ticket_medio: float = Field(ticket_medio=\"Ticket médio do parceiro\", description=\"Ticket médio do parceiro para o qual você deseja obter informações de cashback.\")\n",
    "    vendas_usuarios: float = Field(vendas_usuarios=\"Vendas por usuário do parceiro\", description=\"Vendas por usuário do parceiro para o qual você deseja obter informações de cashback.\")\n",
    "    nv_engaj_score: float = Field(nv_engaj_score=\"Score de engajamento do parceiro\", description=\"Score de engajamento do parceiro para o qual você deseja obter informações de cashback.\")\n",
    "    nv_enjajamento: str = Field(nv_enjajamento=\"Nível de engajamento do parceiro\", description=\"Nível de engajamento do parceiro para o qual você deseja obter informações de cashback.\")\n",
    "    receita_p_transacao: float = Field(receita_p_transacao=\"Receita por transação do parceiro\", description=\"Receita por transação do parceiro para o qual você deseja obter informações de cashback.\")\n",
    "    \n",
    "  \n",
    "        "
   ]
  }
 ],
 "metadata": {
  "kernelspec": {
   "display_name": "base",
   "language": "python",
   "name": "python3"
  },
  "language_info": {
   "codemirror_mode": {
    "name": "ipython",
    "version": 3
   },
   "file_extension": ".py",
   "mimetype": "text/x-python",
   "name": "python",
   "nbconvert_exporter": "python",
   "pygments_lexer": "ipython3",
   "version": "3.11.4"
  }
 },
 "nbformat": 4,
 "nbformat_minor": 5
}
